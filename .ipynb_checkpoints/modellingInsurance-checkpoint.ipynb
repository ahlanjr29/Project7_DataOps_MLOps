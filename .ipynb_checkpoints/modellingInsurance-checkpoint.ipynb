{
 "cells": [
  {
   "cell_type": "code",
   "execution_count": null,
   "metadata": {},
   "outputs": [],
   "source": [
    "#!python3\n",
    "\n",
    "import os\n",
    "import pickle\n",
    "import time\n",
    "\n",
    "import pandas as pd\n",
    "import numpy as np\n",
    "\n",
    "from sklearn.preprocessing import StandardScaler\n",
    "from sklearn.preprocessing import LabelEncoder\n",
    "from sklearn.preprocessing import OneHotEncoder\n",
    "from sklearn.linear_model import LogisticRegression\n",
    "from sklearn.neighbors import KNeighborsClassifier\n",
    "\n",
    "from InsurancePreparation import colPreparation\n",
    "\n",
    "import warnings\n",
    "warnings.filterwarnings('ignore')"
   ]
  },
  {
   "cell_type": "code",
   "execution_count": null,
   "metadata": {},
   "outputs": [],
   "source": [
    "def prepOneHotEncoder(df, col, path):\n",
    "    filename = 'prep'+col+'.pkl'\n",
    "    labelOnetHotEncoder = OneHotEncoder()\n",
    "    dfOneHotEncoder = pd.DataFrame(labelOnetHotEncoder.fit_transform(df[[col]]).toarray(), \\\n",
    "                                   columns = [col+\"_\"+str(i+1) for i in range(len(df[col].unique()))])\n",
    "    \n",
    "    pickle.dump(labelOnetHotEncoder, open(path + filename, 'wb'))\n",
    "    df = pd.concat([df.drop(col, axis=1), dfOneHotEncoder], axis=1)\n",
    "    return df\n",
    "\n",
    "def prepLabelEncoder(df, col, path):\n",
    "    filename = 'prep'+col+'.pkl'\n",
    "    labelencoder = LabelEncoder()\n",
    "    dflabelencoder = pd.DataFrame(labelencoder.fit_transform(df[[col]]), \\\n",
    "                                  columns = [col])\n",
    "    \n",
    "    pickle.dump(labelencoder, open(path + filename, 'wb'))\n",
    "    df = pd.concat([df.drop(col, axis=1), dflabelencoder], axis=1)\n",
    "    return df\n",
    "\n",
    "def prepStandarScaler(df, col, path):\n",
    "    filename = 'prep'+col+'.pkl'\n",
    "    scallingStandarScaler = StandardScaler()\n",
    "    dfStandarScaler = pd.DataFrame(scallingStandarScaler.fit_transform(df[[col]]), \\\n",
    "                                   columns = [col])\n",
    "\n",
    "    pickle.dump(scallingStandarScaler, open(path + filename, 'wb'))\n",
    "    df = pd.concat([df.drop(col, axis=1), dfStandarScaler], axis=1)\n",
    "    return df"
   ]
  },
  {
   "cell_type": "code",
   "execution_count": null,
   "metadata": {},
   "outputs": [],
   "source": [
    "pathPackages = os.getcwd()+\"\\\\\"+\"packages\"+\"\\\\\"\n",
    "pathData = os.getcwd()+\"\\\\\"+\"data\"+\"\\\\\""
   ]
  },
  {
   "cell_type": "code",
   "execution_count": null,
   "metadata": {},
   "outputs": [],
   "source": [
    "data = pd.read_csv(pathData + 'train.csv')\n",
    "data = data.drop('id', axis=1)\n",
    "  # data = data[['Gender','Age','Annual_Premium','Vehicle_Age','Response']]\n",
    "data.head(1)"
   ]
  },
  {
   "cell_type": "code",
   "execution_count": null,
   "metadata": {},
   "outputs": [],
   "source": [
    "X = data.drop('Response', axis=1)\n",
    "y = data['Response']\n",
    "\n",
    "pickle.dump(X.columns.tolist(), open(pathPackages + 'columnPreparation.pkl','wb'))\n",
    "colEncoder, colOneHotEncoder, colStandarScaler = colPreparation()\n",
    "for col in X.columns:\n",
    "    if col in colEncoder:\n",
    "        X = prepLabelEncoder(X, col, pathPackages)\n",
    "        \n",
    "    elif col in colOneHotEncoder:\n",
    "        X = prepOneHotEncoder(X, col, pathPackages)\n",
    "        \n",
    "    elif col in colStandarScaler:\n",
    "        X = prepStandarScaler(X, col, pathPackages)\n",
    "\n",
    "pickle.dump(X.columns.tolist(), open(pathPackages + 'columnModelling.pkl','wb'))\n",
    "X.head(1)"
   ]
  },
  {
   "cell_type": "code",
   "execution_count": null,
   "metadata": {},
   "outputs": [],
   "source": [
    "start = time.time()\n",
    "\n",
    "model = KNeighborsClassifier(n_neighbors=5)\n",
    "model.fit(X,y)\n",
    "\n",
    "stop = time.time()\n",
    "with open(pathPackages + 'model_InsuranceRecommendation.pkl','wb') as file:\n",
    "    pickle.dump(model, file)\n",
    "print(f\"{stop-start} sekons time training model...\")"
   ]
  },
  {
   "cell_type": "code",
   "execution_count": null,
   "metadata": {},
   "outputs": [],
   "source": []
  }
 ],
 "metadata": {
  "kernelspec": {
   "display_name": "Python 3 (ipykernel)",
   "language": "python",
   "name": "python3"
  },
  "language_info": {
   "codemirror_mode": {
    "name": "ipython",
    "version": 3
   },
   "file_extension": ".py",
   "mimetype": "text/x-python",
   "name": "python",
   "nbconvert_exporter": "python",
   "pygments_lexer": "ipython3",
   "version": "3.9.12"
  }
 },
 "nbformat": 4,
 "nbformat_minor": 4
}
